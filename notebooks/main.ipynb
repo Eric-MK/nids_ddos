{
 "cells": [
  {
   "cell_type": "code",
   "execution_count": 1,
   "metadata": {},
   "outputs": [],
   "source": [
    "import pandas as pd"
   ]
  },
  {
   "cell_type": "code",
   "execution_count": 9,
   "metadata": {},
   "outputs": [
    {
     "name": "stderr",
     "output_type": "stream",
     "text": [
      "C:\\Users\\Eric\\AppData\\Local\\Temp\\ipykernel_5424\\192839813.py:16: DtypeWarning: Columns (85) have mixed types. Specify dtype option on import or set low_memory=False.\n",
      "  df_sample_tftp = pd.read_csv(file_path, skiprows=skip_rows)\n"
     ]
    },
    {
     "name": "stdout",
     "output_type": "stream",
     "text": [
      "(100000, 88)\n",
      " Label\n",
      "TFTP      0.99851\n",
      "BENIGN    0.00149\n",
      "Name: proportion, dtype: float64\n"
     ]
    }
   ],
   "source": [
    "\n",
    "import numpy as np\n",
    "\n",
    "# Path to the CSV file\n",
    "file_path = \"../data/raw/01-12/TFTP.csv\"\n",
    "\n",
    "# Calculate the total number of rows in the file\n",
    "nrows = sum(1 for line in open(file_path)) - 1  # Subtract 1 for the header\n",
    "\n",
    "# Desired sample size\n",
    "sample_size = 100000\n",
    "\n",
    "# Generate a random set of row indices to skip\n",
    "skip_rows = sorted(np.random.choice(np.arange(1, nrows+1), size=nrows-sample_size, replace=False))\n",
    "\n",
    "# Read the CSV file, skipping the randomly selected rows\n",
    "df_sample_tftp = pd.read_csv(file_path, skiprows=skip_rows)\n",
    "\n",
    "print(df_sample_tftp.shape)\n",
    "print(df_sample_tftp[' Label'].value_counts(normalize=True))\n"
   ]
  },
  {
   "cell_type": "code",
   "execution_count": 10,
   "metadata": {},
   "outputs": [
    {
     "data": {
      "text/plain": [
       " Label\n",
       "TFTP      99851\n",
       "BENIGN      149\n",
       "Name: count, dtype: int64"
      ]
     },
     "execution_count": 10,
     "metadata": {},
     "output_type": "execute_result"
    }
   ],
   "source": [
    "df_sample_tftp[' Label'].value_counts()"
   ]
  },
  {
   "cell_type": "code",
   "execution_count": 11,
   "metadata": {},
   "outputs": [],
   "source": [
    "# Save the sampled DataFrame to a new CSV file\n",
    "output_file_path = \"../data/processed/TFTP_sampled.csv\"\n",
    "df_sample_tftp.to_csv(output_file_path, index=False)"
   ]
  },
  {
   "cell_type": "code",
   "execution_count": 12,
   "metadata": {},
   "outputs": [
    {
     "name": "stderr",
     "output_type": "stream",
     "text": [
      "C:\\Users\\Eric\\AppData\\Local\\Temp\\ipykernel_5424\\3467099361.py:14: DtypeWarning: Columns (85) have mixed types. Specify dtype option on import or set low_memory=False.\n",
      "  df_sample_dns = pd.read_csv(file_path, skiprows=skip_rows)\n"
     ]
    },
    {
     "data": {
      "text/plain": [
       " Label\n",
       "DrDoS_DNS    99926\n",
       "BENIGN          74\n",
       "Name: count, dtype: int64"
      ]
     },
     "execution_count": 12,
     "metadata": {},
     "output_type": "execute_result"
    }
   ],
   "source": [
    "file_path = \"../data/raw/01-12/DrDoS_DNS.csv\"\n",
    "\n",
    "\n",
    "# Calculate the total number of rows in the file\n",
    "nrows = sum(1 for line in open(file_path)) - 1  # Subtract 1 for the header\n",
    "\n",
    "# Desired sample size\n",
    "sample_size = 100000\n",
    "\n",
    "# Generate a random set of row indices to skip\n",
    "skip_rows = sorted(np.random.choice(np.arange(1, nrows+1), size=nrows-sample_size, replace=False))\n",
    "\n",
    "# Read the CSV file, skipping the randomly selected rows\n",
    "df_sample_dns = pd.read_csv(file_path, skiprows=skip_rows)\n",
    "\n",
    "# Save the sampled DataFrame to a new CSV file\n",
    "output_file_path = \"../data/processed/dns_sampled.csv\"\n",
    "df_sample_dns.to_csv(output_file_path, index=False)\n",
    "\n",
    "\n",
    "df_sample_dns[' Label'].value_counts()\n",
    "\n",
    "\n"
   ]
  },
  {
   "cell_type": "code",
   "execution_count": 13,
   "metadata": {},
   "outputs": [
    {
     "name": "stderr",
     "output_type": "stream",
     "text": [
      "C:\\Users\\Eric\\AppData\\Local\\Temp\\ipykernel_5424\\1049083710.py:15: DtypeWarning: Columns (85) have mixed types. Specify dtype option on import or set low_memory=False.\n",
      "  df_sample_ldap = pd.read_csv(file_path, skiprows=skip_rows)\n"
     ]
    },
    {
     "data": {
      "text/plain": [
       " Label\n",
       "DrDoS_DNS    99932\n",
       "BENIGN          68\n",
       "Name: count, dtype: int64"
      ]
     },
     "execution_count": 13,
     "metadata": {},
     "output_type": "execute_result"
    }
   ],
   "source": [
    "file_path_ldap = \"../data/raw/01-12/DrDoS_LDAP.csv\"\n",
    "\n",
    "\n",
    "\n",
    "# Calculate the total number of rows in the file\n",
    "nrows = sum(1 for line in open(file_path)) - 1  # Subtract 1 for the header\n",
    "\n",
    "# Desired sample size\n",
    "sample_size = 100000\n",
    "\n",
    "# Generate a random set of row indices to skip\n",
    "skip_rows = sorted(np.random.choice(np.arange(1, nrows+1), size=nrows-sample_size, replace=False))\n",
    "\n",
    "# Read the CSV file, skipping the randomly selected rows\n",
    "df_sample_ldap = pd.read_csv(file_path, skiprows=skip_rows)\n",
    "\n",
    "# Save the sampled DataFrame to a new CSV file\n",
    "output_file_path = \"../data/processed/ldap_sampled.csv\"\n",
    "df_sample_ldap.to_csv(output_file_path, index=False)\n",
    "\n",
    "\n",
    "df_sample_ldap[' Label'].value_counts()"
   ]
  },
  {
   "cell_type": "code",
   "execution_count": 14,
   "metadata": {},
   "outputs": [
    {
     "name": "stderr",
     "output_type": "stream",
     "text": [
      "C:\\Users\\Eric\\AppData\\Local\\Temp\\ipykernel_5424\\2122155798.py:15: DtypeWarning: Columns (85) have mixed types. Specify dtype option on import or set low_memory=False.\n",
      "  df_sample_MSSQL = pd.read_csv(file_path, skiprows=skip_rows)\n"
     ]
    },
    {
     "data": {
      "text/plain": [
       " Label\n",
       "DrDoS_MSSQL    99950\n",
       "BENIGN            50\n",
       "Name: count, dtype: int64"
      ]
     },
     "execution_count": 14,
     "metadata": {},
     "output_type": "execute_result"
    }
   ],
   "source": [
    "file_path = \"../data/raw/01-12/DrDoS_MSSQL.csv\"\n",
    "\n",
    "\n",
    "\n",
    "# Calculate the total number of rows in the file\n",
    "nrows = sum(1 for line in open(file_path)) - 1  # Subtract 1 for the header\n",
    "\n",
    "# Desired sample size\n",
    "sample_size = 100000\n",
    "\n",
    "# Generate a random set of row indices to skip\n",
    "skip_rows = sorted(np.random.choice(np.arange(1, nrows+1), size=nrows-sample_size, replace=False))\n",
    "\n",
    "# Read the CSV file, skipping the randomly selected rows\n",
    "df_sample_MSSQL = pd.read_csv(file_path, skiprows=skip_rows)\n",
    "\n",
    "# Save the sampled DataFrame to a new CSV file\n",
    "output_file_path = \"../data/processed/MSSQL_sampled.csv\"\n",
    "df_sample_MSSQL.to_csv(output_file_path, index=False)\n",
    "\n",
    "\n",
    "df_sample_MSSQL[' Label'].value_counts()"
   ]
  },
  {
   "cell_type": "code",
   "execution_count": 15,
   "metadata": {},
   "outputs": [
    {
     "name": "stderr",
     "output_type": "stream",
     "text": [
      "C:\\Users\\Eric\\AppData\\Local\\Temp\\ipykernel_5424\\1752189299.py:14: DtypeWarning: Columns (85) have mixed types. Specify dtype option on import or set low_memory=False.\n",
      "  df_sample_NetBIOS = pd.read_csv(file_path, skiprows=skip_rows)\n"
     ]
    },
    {
     "data": {
      "text/plain": [
       " Label\n",
       "DrDoS_NetBIOS    99955\n",
       "BENIGN              45\n",
       "Name: count, dtype: int64"
      ]
     },
     "execution_count": 15,
     "metadata": {},
     "output_type": "execute_result"
    }
   ],
   "source": [
    "file_path = \"../data/raw/01-12/DrDoS_NetBIOS.csv\"\n",
    "\n",
    "\n",
    "# Calculate the total number of rows in the file\n",
    "nrows = sum(1 for line in open(file_path)) - 1  # Subtract 1 for the header\n",
    "\n",
    "# Desired sample size\n",
    "sample_size = 100000\n",
    "\n",
    "# Generate a random set of row indices to skip\n",
    "skip_rows = sorted(np.random.choice(np.arange(1, nrows+1), size=nrows-sample_size, replace=False))\n",
    "\n",
    "# Read the CSV file, skipping the randomly selected rows\n",
    "df_sample_NetBIOS = pd.read_csv(file_path, skiprows=skip_rows)\n",
    "\n",
    "# Save the sampled DataFrame to a new CSV file\n",
    "output_file_path = \"../data/processed/NetBIOS_sampled.csv\"\n",
    "df_sample_NetBIOS.to_csv(output_file_path, index=False)\n",
    "\n",
    "\n",
    "df_sample_NetBIOS[' Label'].value_counts()"
   ]
  },
  {
   "cell_type": "code",
   "execution_count": 16,
   "metadata": {},
   "outputs": [
    {
     "name": "stderr",
     "output_type": "stream",
     "text": [
      "C:\\Users\\Eric\\AppData\\Local\\Temp\\ipykernel_5424\\1696689758.py:13: DtypeWarning: Columns (85) have mixed types. Specify dtype option on import or set low_memory=False.\n",
      "  df_sample_NTP = pd.read_csv(file_path, skiprows=skip_rows)\n"
     ]
    },
    {
     "data": {
      "text/plain": [
       " Label\n",
       "DrDoS_NTP    98855\n",
       "BENIGN        1145\n",
       "Name: count, dtype: int64"
      ]
     },
     "execution_count": 16,
     "metadata": {},
     "output_type": "execute_result"
    }
   ],
   "source": [
    "file_path = \"../data/raw/01-12/DrDoS_NTP.csv\"\n",
    "\n",
    "# Calculate the total number of rows in the file\n",
    "nrows = sum(1 for line in open(file_path)) - 1  # Subtract 1 for the header\n",
    "\n",
    "# Desired sample size\n",
    "sample_size = 100000\n",
    "\n",
    "# Generate a random set of row indices to skip\n",
    "skip_rows = sorted(np.random.choice(np.arange(1, nrows+1), size=nrows-sample_size, replace=False))\n",
    "\n",
    "# Read the CSV file, skipping the randomly selected rows\n",
    "df_sample_NTP = pd.read_csv(file_path, skiprows=skip_rows)\n",
    "\n",
    "# Save the sampled DataFrame to a new CSV file\n",
    "output_file_path = \"../data/processed/NTP_sampled.csv\"\n",
    "df_sample_NTP.to_csv(output_file_path, index=False)\n",
    "\n",
    "\n",
    "df_sample_NTP[' Label'].value_counts()"
   ]
  },
  {
   "cell_type": "code",
   "execution_count": 17,
   "metadata": {},
   "outputs": [
    {
     "name": "stderr",
     "output_type": "stream",
     "text": [
      "C:\\Users\\Eric\\AppData\\Local\\Temp\\ipykernel_5424\\3035894266.py:13: DtypeWarning: Columns (85) have mixed types. Specify dtype option on import or set low_memory=False.\n",
      "  df_sample_SNMP = pd.read_csv(file_path, skiprows=skip_rows)\n"
     ]
    },
    {
     "data": {
      "text/plain": [
       " Label\n",
       "DrDoS_SNMP    99973\n",
       "BENIGN           27\n",
       "Name: count, dtype: int64"
      ]
     },
     "execution_count": 17,
     "metadata": {},
     "output_type": "execute_result"
    }
   ],
   "source": [
    "file_path = \"../data/raw/01-12/DrDoS_SNMP.csv\"\n",
    "\n",
    "# Calculate the total number of rows in the file\n",
    "nrows = sum(1 for line in open(file_path)) - 1  # Subtract 1 for the header\n",
    "\n",
    "# Desired sample size\n",
    "sample_size = 100000\n",
    "\n",
    "# Generate a random set of row indices to skip \n",
    "skip_rows = sorted(np.random.choice(np.arange(1, nrows+1), size=nrows-sample_size, replace=False))\n",
    "\n",
    "# Read the CSV file, skipping the randomly selected rows\n",
    "df_sample_SNMP = pd.read_csv(file_path, skiprows=skip_rows)\n",
    "\n",
    "# Save the sampled DataFrame to a new CSV file\n",
    "output_file_path = \"../data/processed/SNMP_sampled.csv\"\n",
    "df_sample_SNMP.to_csv(output_file_path, index=False)\n",
    "\n",
    "\n",
    "df_sample_SNMP[' Label'].value_counts()"
   ]
  },
  {
   "cell_type": "code",
   "execution_count": 18,
   "metadata": {},
   "outputs": [
    {
     "name": "stderr",
     "output_type": "stream",
     "text": [
      "C:\\Users\\Eric\\AppData\\Local\\Temp\\ipykernel_5424\\170081644.py:13: DtypeWarning: Columns (85) have mixed types. Specify dtype option on import or set low_memory=False.\n",
      "  df_sample_SSDP = pd.read_csv(file_path, skiprows=skip_rows)\n"
     ]
    },
    {
     "data": {
      "text/plain": [
       " Label\n",
       "DrDoS_SSDP    99972\n",
       "BENIGN           28\n",
       "Name: count, dtype: int64"
      ]
     },
     "execution_count": 18,
     "metadata": {},
     "output_type": "execute_result"
    }
   ],
   "source": [
    "file_path = \"../data/raw/01-12/DrDoS_SSDP.csv\"\n",
    "\n",
    "# Calculate the total number of rows in the file\n",
    "nrows = sum(1 for line in open(file_path)) - 1  # Subtract 1 for the header\n",
    "\n",
    "# Desired sample size\n",
    "sample_size = 100000\n",
    "\n",
    "# Generate a random set of row indices to skip \n",
    "skip_rows = sorted(np.random.choice(np.arange(1, nrows+1), size=nrows-sample_size, replace=False))\n",
    "\n",
    "# Read the CSV file, skipping the randomly selected rows\n",
    "df_sample_SSDP = pd.read_csv(file_path, skiprows=skip_rows)\n",
    "\n",
    "# Save the sampled DataFrame to a new CSV file\n",
    "output_file_path = \"../data/processed/SSDP_sampled.csv\"\n",
    "df_sample_SSDP.to_csv(output_file_path, index=False)\n",
    "\n",
    "\n",
    "df_sample_SSDP[' Label'].value_counts()"
   ]
  },
  {
   "cell_type": "code",
   "execution_count": 19,
   "metadata": {},
   "outputs": [
    {
     "name": "stderr",
     "output_type": "stream",
     "text": [
      "C:\\Users\\Eric\\AppData\\Local\\Temp\\ipykernel_5424\\3921997711.py:13: DtypeWarning: Columns (85) have mixed types. Specify dtype option on import or set low_memory=False.\n",
      "  df_sample_UDP = pd.read_csv(file_path, skiprows=skip_rows)\n"
     ]
    },
    {
     "data": {
      "text/plain": [
       " Label\n",
       "DrDoS_UDP    99951\n",
       "BENIGN          49\n",
       "Name: count, dtype: int64"
      ]
     },
     "execution_count": 19,
     "metadata": {},
     "output_type": "execute_result"
    }
   ],
   "source": [
    "file_path = \"../data/raw/01-12/DrDoS_UDP.csv\"\n",
    "\n",
    "# Calculate the total number of rows in the file\n",
    "nrows = sum(1 for line in open(file_path)) - 1  # Subtract 1 for the header\n",
    "\n",
    "# Desired sample size\n",
    "sample_size = 100000\n",
    "\n",
    "# Generate a random set of row indices to skip \n",
    "skip_rows = sorted(np.random.choice(np.arange(1, nrows+1), size=nrows-sample_size, replace=False))\n",
    "\n",
    "# Read the CSV file, skipping the randomly selected rows\n",
    "df_sample_UDP = pd.read_csv(file_path, skiprows=skip_rows)\n",
    "\n",
    "# Save the sampled DataFrame to a new CSV file\n",
    "output_file_path = \"../data/processed/UDP_sampled.csv\"\n",
    "df_sample_UDP.to_csv(output_file_path, index=False)\n",
    "\n",
    "\n",
    "df_sample_UDP[' Label'].value_counts()"
   ]
  },
  {
   "cell_type": "code",
   "execution_count": 20,
   "metadata": {},
   "outputs": [
    {
     "data": {
      "text/plain": [
       " Label\n",
       "Syn       99977\n",
       "BENIGN       23\n",
       "Name: count, dtype: int64"
      ]
     },
     "execution_count": 20,
     "metadata": {},
     "output_type": "execute_result"
    }
   ],
   "source": [
    "file_path = \"../data/raw/01-12/Syn.csv\"\n",
    "\n",
    "# Calculate the total number of rows in the file\n",
    "nrows = sum(1 for line in open(file_path)) - 1  # Subtract 1 for the header\n",
    "\n",
    "# Desired sample size\n",
    "sample_size = 100000\n",
    "\n",
    "# Generate a random set of row indices to skip \n",
    "skip_rows = sorted(np.random.choice(np.arange(1, nrows+1), size=nrows-sample_size, replace=False))\n",
    "\n",
    "# Read the CSV file, skipping the randomly selected rows\n",
    "df_sample_Syn = pd.read_csv(file_path, skiprows=skip_rows)\n",
    "\n",
    "# Save the sampled DataFrame to a new CSV file\n",
    "output_file_path = \"../data/processed/Syn_sampled.csv\"\n",
    "df_sample_Syn.to_csv(output_file_path, index=False)\n",
    "\n",
    "\n",
    "df_sample_Syn[' Label'].value_counts()"
   ]
  },
  {
   "cell_type": "code",
   "execution_count": 21,
   "metadata": {},
   "outputs": [
    {
     "name": "stderr",
     "output_type": "stream",
     "text": [
      "C:\\Users\\Eric\\AppData\\Local\\Temp\\ipykernel_5424\\1875943667.py:13: DtypeWarning: Columns (85) have mixed types. Specify dtype option on import or set low_memory=False.\n",
      "  df_sample_UDPLag = pd.read_csv(file_path, skiprows=skip_rows)\n"
     ]
    },
    {
     "data": {
      "text/plain": [
       " Label\n",
       "UDP-lag    98894\n",
       "BENIGN       986\n",
       "WebDDoS      120\n",
       "Name: count, dtype: int64"
      ]
     },
     "execution_count": 21,
     "metadata": {},
     "output_type": "execute_result"
    }
   ],
   "source": [
    "file_path = \"../data/raw/01-12/UDPLag.csv\"\n",
    "\n",
    "# Calculate the total number of rows in the file\n",
    "nrows = sum(1 for line in open(file_path)) - 1  # Subtract 1 for the header\n",
    "\n",
    "# Desired sample size\n",
    "sample_size = 100000\n",
    "\n",
    "# Generate a random set of row indices to skip \n",
    "skip_rows = sorted(np.random.choice(np.arange(1, nrows+1), size=nrows-sample_size, replace=False))\n",
    "\n",
    "# Read the CSV file, skipping the randomly selected rows\n",
    "df_sample_UDPLag = pd.read_csv(file_path, skiprows=skip_rows)\n",
    "\n",
    "# Save the sampled DataFrame to a new CSV file\n",
    "output_file_path = \"../data/processed/UDPLag_sampled.csv\"\n",
    "df_sample_UDPLag.to_csv(output_file_path, index=False)\n",
    "\n",
    "\n",
    "df_sample_UDPLag[' Label'].value_counts()"
   ]
  },
  {
   "cell_type": "code",
   "execution_count": 22,
   "metadata": {},
   "outputs": [
    {
     "name": "stderr",
     "output_type": "stream",
     "text": [
      "C:\\Users\\Eric\\AppData\\Local\\Temp\\ipykernel_5424\\619108446.py:13: DtypeWarning: Columns (85) have mixed types. Specify dtype option on import or set low_memory=False.\n",
      "  df_sample_Portmap = pd.read_csv(file_path, skiprows=skip_rows)\n"
     ]
    },
    {
     "data": {
      "text/plain": [
       " Label\n",
       "Portmap    97503\n",
       "BENIGN      2497\n",
       "Name: count, dtype: int64"
      ]
     },
     "execution_count": 22,
     "metadata": {},
     "output_type": "execute_result"
    }
   ],
   "source": [
    "file_path = \"../data/raw/03-11/Portmap.csv\"\n",
    "\n",
    "# Calculate the total number of rows in the file\n",
    "nrows = sum(1 for line in open(file_path)) - 1  # Subtract 1 for the header\n",
    "\n",
    "# Desired sample size\n",
    "sample_size = 100000\n",
    "\n",
    "# Generate a random set of row indices to skip \n",
    "skip_rows = sorted(np.random.choice(np.arange(1, nrows+1), size=nrows-sample_size, replace=False))\n",
    "\n",
    "# Read the CSV file, skipping the randomly selected rows\n",
    "df_sample_Portmap = pd.read_csv(file_path, skiprows=skip_rows)\n",
    "\n",
    "# Save the sampled DataFrame to a new CSV file\n",
    "output_file_path = \"../data/processed/Portmap_sampled.csv\"\n",
    "df_sample_Portmap.to_csv(output_file_path, index=False)\n",
    "\n",
    "\n",
    "df_sample_Portmap[' Label'].value_counts()"
   ]
  }
 ],
 "metadata": {
  "kernelspec": {
   "display_name": "notebook_env",
   "language": "python",
   "name": "python3"
  },
  "language_info": {
   "codemirror_mode": {
    "name": "ipython",
    "version": 3
   },
   "file_extension": ".py",
   "mimetype": "text/x-python",
   "name": "python",
   "nbconvert_exporter": "python",
   "pygments_lexer": "ipython3",
   "version": "3.11.5"
  }
 },
 "nbformat": 4,
 "nbformat_minor": 2
}
