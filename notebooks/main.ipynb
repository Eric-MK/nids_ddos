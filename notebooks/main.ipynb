{
 "cells": [
  {
   "cell_type": "code",
   "execution_count": 1,
   "metadata": {},
   "outputs": [],
   "source": [
    "import pandas as pd"
   ]
  },
  {
   "cell_type": "code",
   "execution_count": 2,
   "metadata": {},
   "outputs": [
    {
     "ename": "ParserError",
     "evalue": "Error tokenizing data. C error: Calling read(nbytes) on source failed. Try engine='python'.",
     "output_type": "error",
     "traceback": [
      "\u001b[1;31m---------------------------------------------------------------------------\u001b[0m",
      "\u001b[1;31mParserError\u001b[0m                               Traceback (most recent call last)",
      "Cell \u001b[1;32mIn[2], line 16\u001b[0m\n\u001b[0;32m     13\u001b[0m skip_rows \u001b[38;5;241m=\u001b[39m \u001b[38;5;28msorted\u001b[39m(np\u001b[38;5;241m.\u001b[39mrandom\u001b[38;5;241m.\u001b[39mchoice(np\u001b[38;5;241m.\u001b[39marange(\u001b[38;5;241m1\u001b[39m, nrows\u001b[38;5;241m+\u001b[39m\u001b[38;5;241m1\u001b[39m), size\u001b[38;5;241m=\u001b[39mnrows\u001b[38;5;241m-\u001b[39msample_size, replace\u001b[38;5;241m=\u001b[39m\u001b[38;5;28;01mFalse\u001b[39;00m))\n\u001b[0;32m     15\u001b[0m \u001b[38;5;66;03m# Read the CSV file, skipping the randomly selected rows\u001b[39;00m\n\u001b[1;32m---> 16\u001b[0m df_sample_tftp \u001b[38;5;241m=\u001b[39m pd\u001b[38;5;241m.\u001b[39mread_csv(file_path, skiprows\u001b[38;5;241m=\u001b[39mskip_rows)\n\u001b[0;32m     18\u001b[0m \u001b[38;5;28mprint\u001b[39m(df_sample_tftp\u001b[38;5;241m.\u001b[39mshape)\n\u001b[0;32m     19\u001b[0m \u001b[38;5;28mprint\u001b[39m(df_sample_tftp[\u001b[38;5;124m'\u001b[39m\u001b[38;5;124m Label\u001b[39m\u001b[38;5;124m'\u001b[39m]\u001b[38;5;241m.\u001b[39mvalue_counts(normalize\u001b[38;5;241m=\u001b[39m\u001b[38;5;28;01mTrue\u001b[39;00m))\n",
      "File \u001b[1;32mc:\\Users\\Eric\\anaconda3\\envs\\notebook_env\\Lib\\site-packages\\pandas\\io\\parsers\\readers.py:948\u001b[0m, in \u001b[0;36mread_csv\u001b[1;34m(filepath_or_buffer, sep, delimiter, header, names, index_col, usecols, dtype, engine, converters, true_values, false_values, skipinitialspace, skiprows, skipfooter, nrows, na_values, keep_default_na, na_filter, verbose, skip_blank_lines, parse_dates, infer_datetime_format, keep_date_col, date_parser, date_format, dayfirst, cache_dates, iterator, chunksize, compression, thousands, decimal, lineterminator, quotechar, quoting, doublequote, escapechar, comment, encoding, encoding_errors, dialect, on_bad_lines, delim_whitespace, low_memory, memory_map, float_precision, storage_options, dtype_backend)\u001b[0m\n\u001b[0;32m    935\u001b[0m kwds_defaults \u001b[38;5;241m=\u001b[39m _refine_defaults_read(\n\u001b[0;32m    936\u001b[0m     dialect,\n\u001b[0;32m    937\u001b[0m     delimiter,\n\u001b[1;32m   (...)\u001b[0m\n\u001b[0;32m    944\u001b[0m     dtype_backend\u001b[38;5;241m=\u001b[39mdtype_backend,\n\u001b[0;32m    945\u001b[0m )\n\u001b[0;32m    946\u001b[0m kwds\u001b[38;5;241m.\u001b[39mupdate(kwds_defaults)\n\u001b[1;32m--> 948\u001b[0m \u001b[38;5;28;01mreturn\u001b[39;00m _read(filepath_or_buffer, kwds)\n",
      "File \u001b[1;32mc:\\Users\\Eric\\anaconda3\\envs\\notebook_env\\Lib\\site-packages\\pandas\\io\\parsers\\readers.py:617\u001b[0m, in \u001b[0;36m_read\u001b[1;34m(filepath_or_buffer, kwds)\u001b[0m\n\u001b[0;32m    614\u001b[0m     \u001b[38;5;28;01mreturn\u001b[39;00m parser\n\u001b[0;32m    616\u001b[0m \u001b[38;5;28;01mwith\u001b[39;00m parser:\n\u001b[1;32m--> 617\u001b[0m     \u001b[38;5;28;01mreturn\u001b[39;00m parser\u001b[38;5;241m.\u001b[39mread(nrows)\n",
      "File \u001b[1;32mc:\\Users\\Eric\\anaconda3\\envs\\notebook_env\\Lib\\site-packages\\pandas\\io\\parsers\\readers.py:1748\u001b[0m, in \u001b[0;36mTextFileReader.read\u001b[1;34m(self, nrows)\u001b[0m\n\u001b[0;32m   1741\u001b[0m nrows \u001b[38;5;241m=\u001b[39m validate_integer(\u001b[38;5;124m\"\u001b[39m\u001b[38;5;124mnrows\u001b[39m\u001b[38;5;124m\"\u001b[39m, nrows)\n\u001b[0;32m   1742\u001b[0m \u001b[38;5;28;01mtry\u001b[39;00m:\n\u001b[0;32m   1743\u001b[0m     \u001b[38;5;66;03m# error: \"ParserBase\" has no attribute \"read\"\u001b[39;00m\n\u001b[0;32m   1744\u001b[0m     (\n\u001b[0;32m   1745\u001b[0m         index,\n\u001b[0;32m   1746\u001b[0m         columns,\n\u001b[0;32m   1747\u001b[0m         col_dict,\n\u001b[1;32m-> 1748\u001b[0m     ) \u001b[38;5;241m=\u001b[39m \u001b[38;5;28mself\u001b[39m\u001b[38;5;241m.\u001b[39m_engine\u001b[38;5;241m.\u001b[39mread(  \u001b[38;5;66;03m# type: ignore[attr-defined]\u001b[39;00m\n\u001b[0;32m   1749\u001b[0m         nrows\n\u001b[0;32m   1750\u001b[0m     )\n\u001b[0;32m   1751\u001b[0m \u001b[38;5;28;01mexcept\u001b[39;00m \u001b[38;5;167;01mException\u001b[39;00m:\n\u001b[0;32m   1752\u001b[0m     \u001b[38;5;28mself\u001b[39m\u001b[38;5;241m.\u001b[39mclose()\n",
      "File \u001b[1;32mc:\\Users\\Eric\\anaconda3\\envs\\notebook_env\\Lib\\site-packages\\pandas\\io\\parsers\\c_parser_wrapper.py:234\u001b[0m, in \u001b[0;36mCParserWrapper.read\u001b[1;34m(self, nrows)\u001b[0m\n\u001b[0;32m    232\u001b[0m \u001b[38;5;28;01mtry\u001b[39;00m:\n\u001b[0;32m    233\u001b[0m     \u001b[38;5;28;01mif\u001b[39;00m \u001b[38;5;28mself\u001b[39m\u001b[38;5;241m.\u001b[39mlow_memory:\n\u001b[1;32m--> 234\u001b[0m         chunks \u001b[38;5;241m=\u001b[39m \u001b[38;5;28mself\u001b[39m\u001b[38;5;241m.\u001b[39m_reader\u001b[38;5;241m.\u001b[39mread_low_memory(nrows)\n\u001b[0;32m    235\u001b[0m         \u001b[38;5;66;03m# destructive to chunks\u001b[39;00m\n\u001b[0;32m    236\u001b[0m         data \u001b[38;5;241m=\u001b[39m _concatenate_chunks(chunks)\n",
      "File \u001b[1;32mparsers.pyx:843\u001b[0m, in \u001b[0;36mpandas._libs.parsers.TextReader.read_low_memory\u001b[1;34m()\u001b[0m\n",
      "File \u001b[1;32mparsers.pyx:904\u001b[0m, in \u001b[0;36mpandas._libs.parsers.TextReader._read_rows\u001b[1;34m()\u001b[0m\n",
      "File \u001b[1;32mparsers.pyx:879\u001b[0m, in \u001b[0;36mpandas._libs.parsers.TextReader._tokenize_rows\u001b[1;34m()\u001b[0m\n",
      "File \u001b[1;32mparsers.pyx:890\u001b[0m, in \u001b[0;36mpandas._libs.parsers.TextReader._check_tokenize_status\u001b[1;34m()\u001b[0m\n",
      "File \u001b[1;32mparsers.pyx:2058\u001b[0m, in \u001b[0;36mpandas._libs.parsers.raise_parser_error\u001b[1;34m()\u001b[0m\n",
      "\u001b[1;31mParserError\u001b[0m: Error tokenizing data. C error: Calling read(nbytes) on source failed. Try engine='python'."
     ]
    }
   ],
   "source": [
    "\n",
    "import numpy as np\n",
    "\n",
    "# Path to the CSV file\n",
    "file_path = \"../data/raw/01-12/TFTP.csv\"\n",
    "\n",
    "# Calculate the total number of rows in the file\n",
    "nrows = sum(1 for line in open(file_path)) - 1  # Subtract 1 for the header\n",
    "\n",
    "# Desired sample size\n",
    "sample_size = 100000\n",
    "\n",
    "# Generate a random set of row indices to skip\n",
    "skip_rows = sorted(np.random.choice(np.arange(1, nrows+1), size=nrows-sample_size, replace=False))\n",
    "\n",
    "# Read the CSV file, skipping the randomly selected rows\n",
    "df_sample_tftp = pd.read_csv(file_path, skiprows=skip_rows)\n",
    "\n",
    "print(df_sample_tftp.shape)\n",
    "print(df_sample_tftp[' Label'].value_counts(normalize=True))\n"
   ]
  },
  {
   "cell_type": "code",
   "execution_count": null,
   "metadata": {},
   "outputs": [
    {
     "data": {
      "text/plain": [
       " Label\n",
       "TFTP      99851\n",
       "BENIGN      149\n",
       "Name: count, dtype: int64"
      ]
     },
     "execution_count": 10,
     "metadata": {},
     "output_type": "execute_result"
    }
   ],
   "source": [
    "df_sample_tftp[' Label'].value_counts()"
   ]
  },
  {
   "cell_type": "code",
   "execution_count": null,
   "metadata": {},
   "outputs": [],
   "source": [
    "# Save the sampled DataFrame to a new CSV file\n",
    "output_file_path = \"../data/processed/TFTP_sampled.csv\"\n",
    "df_sample_tftp.to_csv(output_file_path, index=False)"
   ]
  },
  {
   "cell_type": "code",
   "execution_count": null,
   "metadata": {},
   "outputs": [
    {
     "name": "stderr",
     "output_type": "stream",
     "text": [
      "C:\\Users\\Eric\\AppData\\Local\\Temp\\ipykernel_5424\\3467099361.py:14: DtypeWarning: Columns (85) have mixed types. Specify dtype option on import or set low_memory=False.\n",
      "  df_sample_dns = pd.read_csv(file_path, skiprows=skip_rows)\n"
     ]
    },
    {
     "data": {
      "text/plain": [
       " Label\n",
       "DrDoS_DNS    99926\n",
       "BENIGN          74\n",
       "Name: count, dtype: int64"
      ]
     },
     "execution_count": 12,
     "metadata": {},
     "output_type": "execute_result"
    }
   ],
   "source": [
    "file_path = \"../data/raw/01-12/DrDoS_DNS.csv\"\n",
    "\n",
    "\n",
    "# Calculate the total number of rows in the file\n",
    "nrows = sum(1 for line in open(file_path)) - 1  # Subtract 1 for the header\n",
    "\n",
    "# Desired sample size\n",
    "sample_size = 100000\n",
    "\n",
    "# Generate a random set of row indices to skip\n",
    "skip_rows = sorted(np.random.choice(np.arange(1, nrows+1), size=nrows-sample_size, replace=False))\n",
    "\n",
    "# Read the CSV file, skipping the randomly selected rows\n",
    "df_sample_dns = pd.read_csv(file_path, skiprows=skip_rows)\n",
    "\n",
    "# Save the sampled DataFrame to a new CSV file\n",
    "output_file_path = \"../data/processed/dns_sampled.csv\"\n",
    "df_sample_dns.to_csv(output_file_path, index=False)\n",
    "\n",
    "\n",
    "df_sample_dns[' Label'].value_counts()\n",
    "\n",
    "\n"
   ]
  },
  {
   "cell_type": "code",
   "execution_count": null,
   "metadata": {},
   "outputs": [
    {
     "name": "stderr",
     "output_type": "stream",
     "text": [
      "C:\\Users\\Eric\\AppData\\Local\\Temp\\ipykernel_5424\\1049083710.py:15: DtypeWarning: Columns (85) have mixed types. Specify dtype option on import or set low_memory=False.\n",
      "  df_sample_ldap = pd.read_csv(file_path, skiprows=skip_rows)\n"
     ]
    },
    {
     "data": {
      "text/plain": [
       " Label\n",
       "DrDoS_DNS    99932\n",
       "BENIGN          68\n",
       "Name: count, dtype: int64"
      ]
     },
     "execution_count": 13,
     "metadata": {},
     "output_type": "execute_result"
    }
   ],
   "source": [
    "file_path_ldap = \"../data/raw/01-12/DrDoS_LDAP.csv\"\n",
    "\n",
    "\n",
    "\n",
    "# Calculate the total number of rows in the file\n",
    "nrows = sum(1 for line in open(file_path)) - 1  # Subtract 1 for the header\n",
    "\n",
    "# Desired sample size\n",
    "sample_size = 100000\n",
    "\n",
    "# Generate a random set of row indices to skip\n",
    "skip_rows = sorted(np.random.choice(np.arange(1, nrows+1), size=nrows-sample_size, replace=False))\n",
    "\n",
    "# Read the CSV file, skipping the randomly selected rows\n",
    "df_sample_ldap = pd.read_csv(file_path, skiprows=skip_rows)\n",
    "\n",
    "# Save the sampled DataFrame to a new CSV file\n",
    "output_file_path = \"../data/processed/ldap_sampled.csv\"\n",
    "df_sample_ldap.to_csv(output_file_path, index=False)\n",
    "\n",
    "\n",
    "df_sample_ldap[' Label'].value_counts()"
   ]
  },
  {
   "cell_type": "code",
   "execution_count": null,
   "metadata": {},
   "outputs": [
    {
     "name": "stderr",
     "output_type": "stream",
     "text": [
      "C:\\Users\\Eric\\AppData\\Local\\Temp\\ipykernel_5424\\2122155798.py:15: DtypeWarning: Columns (85) have mixed types. Specify dtype option on import or set low_memory=False.\n",
      "  df_sample_MSSQL = pd.read_csv(file_path, skiprows=skip_rows)\n"
     ]
    },
    {
     "data": {
      "text/plain": [
       " Label\n",
       "DrDoS_MSSQL    99950\n",
       "BENIGN            50\n",
       "Name: count, dtype: int64"
      ]
     },
     "execution_count": 14,
     "metadata": {},
     "output_type": "execute_result"
    }
   ],
   "source": [
    "file_path = \"../data/raw/01-12/DrDoS_MSSQL.csv\"\n",
    "\n",
    "\n",
    "\n",
    "# Calculate the total number of rows in the file\n",
    "nrows = sum(1 for line in open(file_path)) - 1  # Subtract 1 for the header\n",
    "\n",
    "# Desired sample size\n",
    "sample_size = 100000\n",
    "\n",
    "# Generate a random set of row indices to skip\n",
    "skip_rows = sorted(np.random.choice(np.arange(1, nrows+1), size=nrows-sample_size, replace=False))\n",
    "\n",
    "# Read the CSV file, skipping the randomly selected rows\n",
    "df_sample_MSSQL = pd.read_csv(file_path, skiprows=skip_rows)\n",
    "\n",
    "# Save the sampled DataFrame to a new CSV file\n",
    "output_file_path = \"../data/processed/MSSQL_sampled.csv\"\n",
    "df_sample_MSSQL.to_csv(output_file_path, index=False)\n",
    "\n",
    "\n",
    "df_sample_MSSQL[' Label'].value_counts()"
   ]
  },
  {
   "cell_type": "code",
   "execution_count": null,
   "metadata": {},
   "outputs": [
    {
     "name": "stderr",
     "output_type": "stream",
     "text": [
      "C:\\Users\\Eric\\AppData\\Local\\Temp\\ipykernel_5424\\1752189299.py:14: DtypeWarning: Columns (85) have mixed types. Specify dtype option on import or set low_memory=False.\n",
      "  df_sample_NetBIOS = pd.read_csv(file_path, skiprows=skip_rows)\n"
     ]
    },
    {
     "data": {
      "text/plain": [
       " Label\n",
       "DrDoS_NetBIOS    99955\n",
       "BENIGN              45\n",
       "Name: count, dtype: int64"
      ]
     },
     "execution_count": 15,
     "metadata": {},
     "output_type": "execute_result"
    }
   ],
   "source": [
    "file_path = \"../data/raw/01-12/DrDoS_NetBIOS.csv\"\n",
    "\n",
    "\n",
    "# Calculate the total number of rows in the file\n",
    "nrows = sum(1 for line in open(file_path)) - 1  # Subtract 1 for the header\n",
    "\n",
    "# Desired sample size\n",
    "sample_size = 100000\n",
    "\n",
    "# Generate a random set of row indices to skip\n",
    "skip_rows = sorted(np.random.choice(np.arange(1, nrows+1), size=nrows-sample_size, replace=False))\n",
    "\n",
    "# Read the CSV file, skipping the randomly selected rows\n",
    "df_sample_NetBIOS = pd.read_csv(file_path, skiprows=skip_rows)\n",
    "\n",
    "# Save the sampled DataFrame to a new CSV file\n",
    "output_file_path = \"../data/processed/NetBIOS_sampled.csv\"\n",
    "df_sample_NetBIOS.to_csv(output_file_path, index=False)\n",
    "\n",
    "\n",
    "df_sample_NetBIOS[' Label'].value_counts()"
   ]
  },
  {
   "cell_type": "code",
   "execution_count": null,
   "metadata": {},
   "outputs": [
    {
     "name": "stderr",
     "output_type": "stream",
     "text": [
      "C:\\Users\\Eric\\AppData\\Local\\Temp\\ipykernel_5424\\1696689758.py:13: DtypeWarning: Columns (85) have mixed types. Specify dtype option on import or set low_memory=False.\n",
      "  df_sample_NTP = pd.read_csv(file_path, skiprows=skip_rows)\n"
     ]
    },
    {
     "data": {
      "text/plain": [
       " Label\n",
       "DrDoS_NTP    98855\n",
       "BENIGN        1145\n",
       "Name: count, dtype: int64"
      ]
     },
     "execution_count": 16,
     "metadata": {},
     "output_type": "execute_result"
    }
   ],
   "source": [
    "file_path = \"../data/raw/01-12/DrDoS_NTP.csv\"\n",
    "\n",
    "# Calculate the total number of rows in the file\n",
    "nrows = sum(1 for line in open(file_path)) - 1  # Subtract 1 for the header\n",
    "\n",
    "# Desired sample size\n",
    "sample_size = 100000\n",
    "\n",
    "# Generate a random set of row indices to skip\n",
    "skip_rows = sorted(np.random.choice(np.arange(1, nrows+1), size=nrows-sample_size, replace=False))\n",
    "\n",
    "# Read the CSV file, skipping the randomly selected rows\n",
    "df_sample_NTP = pd.read_csv(file_path, skiprows=skip_rows)\n",
    "\n",
    "# Save the sampled DataFrame to a new CSV file\n",
    "output_file_path = \"../data/processed/NTP_sampled.csv\"\n",
    "df_sample_NTP.to_csv(output_file_path, index=False)\n",
    "\n",
    "\n",
    "df_sample_NTP[' Label'].value_counts()"
   ]
  },
  {
   "cell_type": "code",
   "execution_count": null,
   "metadata": {},
   "outputs": [
    {
     "name": "stderr",
     "output_type": "stream",
     "text": [
      "C:\\Users\\Eric\\AppData\\Local\\Temp\\ipykernel_5424\\3035894266.py:13: DtypeWarning: Columns (85) have mixed types. Specify dtype option on import or set low_memory=False.\n",
      "  df_sample_SNMP = pd.read_csv(file_path, skiprows=skip_rows)\n"
     ]
    },
    {
     "data": {
      "text/plain": [
       " Label\n",
       "DrDoS_SNMP    99973\n",
       "BENIGN           27\n",
       "Name: count, dtype: int64"
      ]
     },
     "execution_count": 17,
     "metadata": {},
     "output_type": "execute_result"
    }
   ],
   "source": [
    "file_path = \"../data/raw/01-12/DrDoS_SNMP.csv\"\n",
    "\n",
    "# Calculate the total number of rows in the file\n",
    "nrows = sum(1 for line in open(file_path)) - 1  # Subtract 1 for the header\n",
    "\n",
    "# Desired sample size\n",
    "sample_size = 100000\n",
    "\n",
    "# Generate a random set of row indices to skip \n",
    "skip_rows = sorted(np.random.choice(np.arange(1, nrows+1), size=nrows-sample_size, replace=False))\n",
    "\n",
    "# Read the CSV file, skipping the randomly selected rows\n",
    "df_sample_SNMP = pd.read_csv(file_path, skiprows=skip_rows)\n",
    "\n",
    "# Save the sampled DataFrame to a new CSV file\n",
    "output_file_path = \"../data/processed/SNMP_sampled.csv\"\n",
    "df_sample_SNMP.to_csv(output_file_path, index=False)\n",
    "\n",
    "\n",
    "df_sample_SNMP[' Label'].value_counts()"
   ]
  },
  {
   "cell_type": "code",
   "execution_count": null,
   "metadata": {},
   "outputs": [
    {
     "name": "stderr",
     "output_type": "stream",
     "text": [
      "C:\\Users\\Eric\\AppData\\Local\\Temp\\ipykernel_5424\\170081644.py:13: DtypeWarning: Columns (85) have mixed types. Specify dtype option on import or set low_memory=False.\n",
      "  df_sample_SSDP = pd.read_csv(file_path, skiprows=skip_rows)\n"
     ]
    },
    {
     "data": {
      "text/plain": [
       " Label\n",
       "DrDoS_SSDP    99972\n",
       "BENIGN           28\n",
       "Name: count, dtype: int64"
      ]
     },
     "execution_count": 18,
     "metadata": {},
     "output_type": "execute_result"
    }
   ],
   "source": [
    "file_path = \"../data/raw/01-12/DrDoS_SSDP.csv\"\n",
    "\n",
    "# Calculate the total number of rows in the file\n",
    "nrows = sum(1 for line in open(file_path)) - 1  # Subtract 1 for the header\n",
    "\n",
    "# Desired sample size\n",
    "sample_size = 100000\n",
    "\n",
    "# Generate a random set of row indices to skip \n",
    "skip_rows = sorted(np.random.choice(np.arange(1, nrows+1), size=nrows-sample_size, replace=False))\n",
    "\n",
    "# Read the CSV file, skipping the randomly selected rows\n",
    "df_sample_SSDP = pd.read_csv(file_path, skiprows=skip_rows)\n",
    "\n",
    "# Save the sampled DataFrame to a new CSV file\n",
    "output_file_path = \"../data/processed/SSDP_sampled.csv\"\n",
    "df_sample_SSDP.to_csv(output_file_path, index=False)\n",
    "\n",
    "\n",
    "df_sample_SSDP[' Label'].value_counts()"
   ]
  },
  {
   "cell_type": "code",
   "execution_count": null,
   "metadata": {},
   "outputs": [
    {
     "name": "stderr",
     "output_type": "stream",
     "text": [
      "C:\\Users\\Eric\\AppData\\Local\\Temp\\ipykernel_5424\\3921997711.py:13: DtypeWarning: Columns (85) have mixed types. Specify dtype option on import or set low_memory=False.\n",
      "  df_sample_UDP = pd.read_csv(file_path, skiprows=skip_rows)\n"
     ]
    },
    {
     "data": {
      "text/plain": [
       " Label\n",
       "DrDoS_UDP    99951\n",
       "BENIGN          49\n",
       "Name: count, dtype: int64"
      ]
     },
     "execution_count": 19,
     "metadata": {},
     "output_type": "execute_result"
    }
   ],
   "source": [
    "file_path = \"../data/raw/01-12/DrDoS_UDP.csv\"\n",
    "\n",
    "# Calculate the total number of rows in the file\n",
    "nrows = sum(1 for line in open(file_path)) - 1  # Subtract 1 for the header\n",
    "\n",
    "# Desired sample size\n",
    "sample_size = 100000\n",
    "\n",
    "# Generate a random set of row indices to skip \n",
    "skip_rows = sorted(np.random.choice(np.arange(1, nrows+1), size=nrows-sample_size, replace=False))\n",
    "\n",
    "# Read the CSV file, skipping the randomly selected rows\n",
    "df_sample_UDP = pd.read_csv(file_path, skiprows=skip_rows)\n",
    "\n",
    "# Save the sampled DataFrame to a new CSV file\n",
    "output_file_path = \"../data/processed/UDP_sampled.csv\"\n",
    "df_sample_UDP.to_csv(output_file_path, index=False)\n",
    "\n",
    "\n",
    "df_sample_UDP[' Label'].value_counts()"
   ]
  },
  {
   "cell_type": "code",
   "execution_count": null,
   "metadata": {},
   "outputs": [
    {
     "data": {
      "text/plain": [
       " Label\n",
       "Syn       99977\n",
       "BENIGN       23\n",
       "Name: count, dtype: int64"
      ]
     },
     "execution_count": 20,
     "metadata": {},
     "output_type": "execute_result"
    }
   ],
   "source": [
    "file_path = \"../data/raw/01-12/Syn.csv\"\n",
    "\n",
    "# Calculate the total number of rows in the file\n",
    "nrows = sum(1 for line in open(file_path)) - 1  # Subtract 1 for the header\n",
    "\n",
    "# Desired sample size\n",
    "sample_size = 100000\n",
    "\n",
    "# Generate a random set of row indices to skip \n",
    "skip_rows = sorted(np.random.choice(np.arange(1, nrows+1), size=nrows-sample_size, replace=False))\n",
    "\n",
    "# Read the CSV file, skipping the randomly selected rows\n",
    "df_sample_Syn = pd.read_csv(file_path, skiprows=skip_rows)\n",
    "\n",
    "# Save the sampled DataFrame to a new CSV file\n",
    "output_file_path = \"../data/processed/Syn_sampled.csv\"\n",
    "df_sample_Syn.to_csv(output_file_path, index=False)\n",
    "\n",
    "\n",
    "df_sample_Syn[' Label'].value_counts()"
   ]
  },
  {
   "cell_type": "code",
   "execution_count": null,
   "metadata": {},
   "outputs": [
    {
     "name": "stderr",
     "output_type": "stream",
     "text": [
      "C:\\Users\\Eric\\AppData\\Local\\Temp\\ipykernel_5424\\1875943667.py:13: DtypeWarning: Columns (85) have mixed types. Specify dtype option on import or set low_memory=False.\n",
      "  df_sample_UDPLag = pd.read_csv(file_path, skiprows=skip_rows)\n"
     ]
    },
    {
     "data": {
      "text/plain": [
       " Label\n",
       "UDP-lag    98894\n",
       "BENIGN       986\n",
       "WebDDoS      120\n",
       "Name: count, dtype: int64"
      ]
     },
     "execution_count": 21,
     "metadata": {},
     "output_type": "execute_result"
    }
   ],
   "source": [
    "file_path = \"../data/raw/01-12/UDPLag.csv\"\n",
    "\n",
    "# Calculate the total number of rows in the file\n",
    "nrows = sum(1 for line in open(file_path)) - 1  # Subtract 1 for the header\n",
    "\n",
    "# Desired sample size\n",
    "sample_size = 100000\n",
    "\n",
    "# Generate a random set of row indices to skip \n",
    "skip_rows = sorted(np.random.choice(np.arange(1, nrows+1), size=nrows-sample_size, replace=False))\n",
    "\n",
    "# Read the CSV file, skipping the randomly selected rows\n",
    "df_sample_UDPLag = pd.read_csv(file_path, skiprows=skip_rows)\n",
    "\n",
    "# Save the sampled DataFrame to a new CSV file\n",
    "output_file_path = \"../data/processed/UDPLag_sampled.csv\"\n",
    "df_sample_UDPLag.to_csv(output_file_path, index=False)\n",
    "\n",
    "\n",
    "df_sample_UDPLag[' Label'].value_counts()"
   ]
  },
  {
   "cell_type": "code",
   "execution_count": null,
   "metadata": {},
   "outputs": [
    {
     "name": "stderr",
     "output_type": "stream",
     "text": [
      "C:\\Users\\Eric\\AppData\\Local\\Temp\\ipykernel_5424\\619108446.py:13: DtypeWarning: Columns (85) have mixed types. Specify dtype option on import or set low_memory=False.\n",
      "  df_sample_Portmap = pd.read_csv(file_path, skiprows=skip_rows)\n"
     ]
    },
    {
     "data": {
      "text/plain": [
       " Label\n",
       "Portmap    97503\n",
       "BENIGN      2497\n",
       "Name: count, dtype: int64"
      ]
     },
     "execution_count": 22,
     "metadata": {},
     "output_type": "execute_result"
    }
   ],
   "source": [
    "file_path = \"../data/raw/03-11/Portmap.csv\"\n",
    "\n",
    "# Calculate the total number of rows in the file\n",
    "nrows = sum(1 for line in open(file_path)) - 1  # Subtract 1 for the header\n",
    "\n",
    "# Desired sample size\n",
    "sample_size = 100000\n",
    "\n",
    "# Generate a random set of row indices to skip \n",
    "skip_rows = sorted(np.random.choice(np.arange(1, nrows+1), size=nrows-sample_size, replace=False))\n",
    "\n",
    "# Read the CSV file, skipping the randomly selected rows\n",
    "df_sample_Portmap = pd.read_csv(file_path, skiprows=skip_rows)\n",
    "\n",
    "# Save the sampled DataFrame to a new CSV file\n",
    "output_file_path = \"../data/processed/Portmap_sampled.csv\"\n",
    "df_sample_Portmap.to_csv(output_file_path, index=False)\n",
    "\n",
    "\n",
    "df_sample_Portmap[' Label'].value_counts()"
   ]
  },
  {
   "cell_type": "code",
   "execution_count": null,
   "metadata": {},
   "outputs": [],
   "source": [
    "data_attacks = pd.read_csv('../data/processed/attacks.csv')\n",
    "\n",
    "data_attacks.head()"
   ]
  }
 ],
 "metadata": {
  "kernelspec": {
   "display_name": "notebook_env",
   "language": "python",
   "name": "python3"
  },
  "language_info": {
   "codemirror_mode": {
    "name": "ipython",
    "version": 3
   },
   "file_extension": ".py",
   "mimetype": "text/x-python",
   "name": "python",
   "nbconvert_exporter": "python",
   "pygments_lexer": "ipython3",
   "version": "3.11.5"
  }
 },
 "nbformat": 4,
 "nbformat_minor": 2
}
