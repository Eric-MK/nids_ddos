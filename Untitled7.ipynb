{
  "nbformat": 4,
  "nbformat_minor": 0,
  "metadata": {
    "colab": {
      "provenance": [],
      "authorship_tag": "ABX9TyOBjAfeCqMWefRLPBTuyInO",
      "include_colab_link": true
    },
    "kernelspec": {
      "name": "python3",
      "display_name": "Python 3"
    },
    "language_info": {
      "name": "python"
    }
  },
  "cells": [
    {
      "cell_type": "markdown",
      "metadata": {
        "id": "view-in-github",
        "colab_type": "text"
      },
      "source": [
        "<a href=\"https://colab.research.google.com/github/Eric-MK/nids_ddos/blob/development/Untitled7.ipynb\" target=\"_parent\"><img src=\"https://colab.research.google.com/assets/colab-badge.svg\" alt=\"Open In Colab\"/></a>"
      ]
    },
    {
      "cell_type": "code",
      "source": [
        "from google.colab import drive\n",
        "drive.mount('/content/drive')"
      ],
      "metadata": {
        "colab": {
          "base_uri": "https://localhost:8080/"
        },
        "id": "2FCoaegVHEAU",
        "outputId": "0db441dc-389d-4278-cb35-be667809c16c"
      },
      "execution_count": 1,
      "outputs": [
        {
          "output_type": "stream",
          "name": "stdout",
          "text": [
            "Mounted at /content/drive\n"
          ]
        }
      ]
    },
    {
      "cell_type": "code",
      "execution_count": 2,
      "metadata": {
        "id": "eF3YGMZdRoJ7"
      },
      "outputs": [],
      "source": [
        "import os\n",
        "import pandas as pd"
      ]
    },
    {
      "cell_type": "markdown",
      "source": [
        "Read folder with file"
      ],
      "metadata": {
        "id": "jQ6I_PcsJF8n"
      }
    },
    {
      "cell_type": "code",
      "source": [
        "os.chdir('/content/drive/My Drive/Data')\n",
        "files = os.listdir()\n",
        "print(files)"
      ],
      "metadata": {
        "colab": {
          "base_uri": "https://localhost:8080/"
        },
        "id": "oL0SwtdE99bH",
        "outputId": "59bea35a-a152-45d4-868d-ca23d010bd64"
      },
      "execution_count": 3,
      "outputs": [
        {
          "output_type": "stream",
          "name": "stdout",
          "text": [
            "['TFTP_sampled.csv', 'dns_sampled.csv', 'ldap_sampled.csv', 'MSSQL_sampled.csv', 'NetBIOS_sampled.csv', 'NTP_sampled.csv', 'SNMP_sampled.csv', 'SSDP_sampled.csv', 'UDP_sampled.csv', 'Syn_sampled.csv', 'UDPLag_sampled.csv', 'Portmap_sampled.csv']\n"
          ]
        }
      ]
    },
    {
      "cell_type": "code",
      "source": [
        "df_sample_tftp = pd.read_csv('TFTP_sampled.csv')\n",
        "df_sample_dns = pd.read_csv('dns_sampled.csv')\n",
        "df_sample_ldap = pd.read_csv('ldap_sampled.csv')\n",
        "df_sample_MSSQL = pd.read_csv('MSSQL_sampled.csv')\n",
        "df_sample_NetBIOS = pd.read_csv('NetBIOS_sampled.csv')\n",
        "df_sample_NTP = pd.read_csv('NTP_sampled.csv')\n",
        "df_sample_SNMP = pd.read_csv('SNMP_sampled.csv')\n",
        "df_sample_SSDP = pd.read_csv('SSDP_sampled.csv')\n",
        "df_sample_UDP = pd.read_csv('UDP_sampled.csv')\n",
        "df_sample_Syn = pd.read_csv('Syn_sampled.csv')\n",
        "df_sample_UDPLag = pd.read_csv('UDPLag_sampled.csv')\n",
        "df_sample_Portmap = pd.read_csv('Portmap_sampled.csv')"
      ],
      "metadata": {
        "colab": {
          "base_uri": "https://localhost:8080/"
        },
        "id": "zdwlazlEJFNi",
        "outputId": "c4717d72-162f-4e85-8171-101b3221c833"
      },
      "execution_count": 4,
      "outputs": [
        {
          "output_type": "stream",
          "name": "stderr",
          "text": [
            "<ipython-input-4-3e77c7f7119a>:1: DtypeWarning: Columns (85) have mixed types. Specify dtype option on import or set low_memory=False.\n",
            "  df_sample_tftp = pd.read_csv('TFTP_sampled.csv')\n",
            "<ipython-input-4-3e77c7f7119a>:2: DtypeWarning: Columns (85) have mixed types. Specify dtype option on import or set low_memory=False.\n",
            "  df_sample_dns = pd.read_csv('dns_sampled.csv')\n",
            "<ipython-input-4-3e77c7f7119a>:3: DtypeWarning: Columns (85) have mixed types. Specify dtype option on import or set low_memory=False.\n",
            "  df_sample_ldap = pd.read_csv('ldap_sampled.csv')\n",
            "<ipython-input-4-3e77c7f7119a>:4: DtypeWarning: Columns (85) have mixed types. Specify dtype option on import or set low_memory=False.\n",
            "  df_sample_MSSQL = pd.read_csv('MSSQL_sampled.csv')\n",
            "<ipython-input-4-3e77c7f7119a>:5: DtypeWarning: Columns (85) have mixed types. Specify dtype option on import or set low_memory=False.\n",
            "  df_sample_NetBIOS = pd.read_csv('NetBIOS_sampled.csv')\n",
            "<ipython-input-4-3e77c7f7119a>:6: DtypeWarning: Columns (85) have mixed types. Specify dtype option on import or set low_memory=False.\n",
            "  df_sample_NTP = pd.read_csv('NTP_sampled.csv')\n",
            "<ipython-input-4-3e77c7f7119a>:7: DtypeWarning: Columns (85) have mixed types. Specify dtype option on import or set low_memory=False.\n",
            "  df_sample_SNMP = pd.read_csv('SNMP_sampled.csv')\n",
            "<ipython-input-4-3e77c7f7119a>:8: DtypeWarning: Columns (85) have mixed types. Specify dtype option on import or set low_memory=False.\n",
            "  df_sample_SSDP = pd.read_csv('SSDP_sampled.csv')\n",
            "<ipython-input-4-3e77c7f7119a>:9: DtypeWarning: Columns (85) have mixed types. Specify dtype option on import or set low_memory=False.\n",
            "  df_sample_UDP = pd.read_csv('UDP_sampled.csv')\n",
            "<ipython-input-4-3e77c7f7119a>:11: DtypeWarning: Columns (85) have mixed types. Specify dtype option on import or set low_memory=False.\n",
            "  df_sample_UDPLag = pd.read_csv('UDPLag_sampled.csv')\n",
            "<ipython-input-4-3e77c7f7119a>:12: DtypeWarning: Columns (85) have mixed types. Specify dtype option on import or set low_memory=False.\n",
            "  df_sample_Portmap = pd.read_csv('Portmap_sampled.csv')\n"
          ]
        }
      ]
    },
    {
      "cell_type": "code",
      "source": [
        "dfs = [ df_sample_tftp, df_sample_dns, df_sample_ldap, df_sample_MSSQL, df_sample_NetBIOS, df_sample_NTP, df_sample_SNMP, df_sample_SSDP, df_sample_UDP, df_sample_Syn, df_sample_UDPLag, df_sample_Portmap ]\n",
        "\n",
        "column_counts = [df.shape[1] for df in dfs]\n",
        "\n",
        "# Print the results\n",
        "for i, count in enumerate(column_counts):\n",
        "    print(f\"DataFrame {i}: {count} columns\")\n"
      ],
      "metadata": {
        "colab": {
          "base_uri": "https://localhost:8080/"
        },
        "id": "PDfah6ooLDDX",
        "outputId": "c2097bbc-4151-46e4-caa9-31175fca92a6"
      },
      "execution_count": 5,
      "outputs": [
        {
          "output_type": "stream",
          "name": "stdout",
          "text": [
            "DataFrame 0: 88 columns\n",
            "DataFrame 1: 88 columns\n",
            "DataFrame 2: 88 columns\n",
            "DataFrame 3: 88 columns\n",
            "DataFrame 4: 88 columns\n",
            "DataFrame 5: 88 columns\n",
            "DataFrame 6: 88 columns\n",
            "DataFrame 7: 88 columns\n",
            "DataFrame 8: 88 columns\n",
            "DataFrame 9: 88 columns\n",
            "DataFrame 10: 88 columns\n",
            "DataFrame 11: 88 columns\n"
          ]
        }
      ]
    },
    {
      "cell_type": "code",
      "source": [
        "# Remove leading and trailing spaces from column names\n",
        "for df in dfs:\n",
        "    df.columns = df.columns.str.strip()\n"
      ],
      "metadata": {
        "id": "0oB9Tg2MYUso"
      },
      "execution_count": 6,
      "outputs": []
    },
    {
      "cell_type": "code",
      "source": [
        "df_sample_Syn.info()"
      ],
      "metadata": {
        "colab": {
          "base_uri": "https://localhost:8080/"
        },
        "id": "dhr4fbVRVnbB",
        "outputId": "a4c611c4-f637-4eb8-ce37-d276bf077c80"
      },
      "execution_count": 7,
      "outputs": [
        {
          "output_type": "stream",
          "name": "stdout",
          "text": [
            "<class 'pandas.core.frame.DataFrame'>\n",
            "RangeIndex: 100000 entries, 0 to 99999\n",
            "Data columns (total 88 columns):\n",
            " #   Column                       Non-Null Count   Dtype  \n",
            "---  ------                       --------------   -----  \n",
            " 0   Unnamed: 0                   100000 non-null  int64  \n",
            " 1   Flow ID                      100000 non-null  object \n",
            " 2   Source IP                    100000 non-null  object \n",
            " 3   Source Port                  100000 non-null  int64  \n",
            " 4   Destination IP               100000 non-null  object \n",
            " 5   Destination Port             100000 non-null  int64  \n",
            " 6   Protocol                     100000 non-null  int64  \n",
            " 7   Timestamp                    100000 non-null  object \n",
            " 8   Flow Duration                100000 non-null  int64  \n",
            " 9   Total Fwd Packets            100000 non-null  int64  \n",
            " 10  Total Backward Packets       100000 non-null  int64  \n",
            " 11  Total Length of Fwd Packets  100000 non-null  float64\n",
            " 12  Total Length of Bwd Packets  100000 non-null  float64\n",
            " 13  Fwd Packet Length Max        100000 non-null  float64\n",
            " 14  Fwd Packet Length Min        100000 non-null  float64\n",
            " 15  Fwd Packet Length Mean       100000 non-null  float64\n",
            " 16  Fwd Packet Length Std        100000 non-null  float64\n",
            " 17  Bwd Packet Length Max        100000 non-null  float64\n",
            " 18  Bwd Packet Length Min        100000 non-null  float64\n",
            " 19  Bwd Packet Length Mean       100000 non-null  float64\n",
            " 20  Bwd Packet Length Std        100000 non-null  float64\n",
            " 21  Flow Bytes/s                 87274 non-null   float64\n",
            " 22  Flow Packets/s               100000 non-null  float64\n",
            " 23  Flow IAT Mean                100000 non-null  float64\n",
            " 24  Flow IAT Std                 100000 non-null  float64\n",
            " 25  Flow IAT Max                 100000 non-null  float64\n",
            " 26  Flow IAT Min                 100000 non-null  float64\n",
            " 27  Fwd IAT Total                100000 non-null  float64\n",
            " 28  Fwd IAT Mean                 100000 non-null  float64\n",
            " 29  Fwd IAT Std                  100000 non-null  float64\n",
            " 30  Fwd IAT Max                  100000 non-null  float64\n",
            " 31  Fwd IAT Min                  100000 non-null  float64\n",
            " 32  Bwd IAT Total                100000 non-null  float64\n",
            " 33  Bwd IAT Mean                 100000 non-null  float64\n",
            " 34  Bwd IAT Std                  100000 non-null  float64\n",
            " 35  Bwd IAT Max                  100000 non-null  float64\n",
            " 36  Bwd IAT Min                  100000 non-null  float64\n",
            " 37  Fwd PSH Flags                100000 non-null  int64  \n",
            " 38  Bwd PSH Flags                100000 non-null  int64  \n",
            " 39  Fwd URG Flags                100000 non-null  int64  \n",
            " 40  Bwd URG Flags                100000 non-null  int64  \n",
            " 41  Fwd Header Length            100000 non-null  int64  \n",
            " 42  Bwd Header Length            100000 non-null  int64  \n",
            " 43  Fwd Packets/s                100000 non-null  float64\n",
            " 44  Bwd Packets/s                100000 non-null  float64\n",
            " 45  Min Packet Length            100000 non-null  float64\n",
            " 46  Max Packet Length            100000 non-null  float64\n",
            " 47  Packet Length Mean           100000 non-null  float64\n",
            " 48  Packet Length Std            100000 non-null  float64\n",
            " 49  Packet Length Variance       100000 non-null  float64\n",
            " 50  FIN Flag Count               100000 non-null  int64  \n",
            " 51  SYN Flag Count               100000 non-null  int64  \n",
            " 52  RST Flag Count               100000 non-null  int64  \n",
            " 53  PSH Flag Count               100000 non-null  int64  \n",
            " 54  ACK Flag Count               100000 non-null  int64  \n",
            " 55  URG Flag Count               100000 non-null  int64  \n",
            " 56  CWE Flag Count               100000 non-null  int64  \n",
            " 57  ECE Flag Count               100000 non-null  int64  \n",
            " 58  Down/Up Ratio                100000 non-null  float64\n",
            " 59  Average Packet Size          100000 non-null  float64\n",
            " 60  Avg Fwd Segment Size         100000 non-null  float64\n",
            " 61  Avg Bwd Segment Size         100000 non-null  float64\n",
            " 62  Fwd Header Length.1          100000 non-null  int64  \n",
            " 63  Fwd Avg Bytes/Bulk           100000 non-null  int64  \n",
            " 64  Fwd Avg Packets/Bulk         100000 non-null  int64  \n",
            " 65  Fwd Avg Bulk Rate            100000 non-null  int64  \n",
            " 66  Bwd Avg Bytes/Bulk           100000 non-null  int64  \n",
            " 67  Bwd Avg Packets/Bulk         100000 non-null  int64  \n",
            " 68  Bwd Avg Bulk Rate            100000 non-null  int64  \n",
            " 69  Subflow Fwd Packets          100000 non-null  int64  \n",
            " 70  Subflow Fwd Bytes            100000 non-null  int64  \n",
            " 71  Subflow Bwd Packets          100000 non-null  int64  \n",
            " 72  Subflow Bwd Bytes            100000 non-null  int64  \n",
            " 73  Init_Win_bytes_forward       100000 non-null  int64  \n",
            " 74  Init_Win_bytes_backward      100000 non-null  int64  \n",
            " 75  act_data_pkt_fwd             100000 non-null  int64  \n",
            " 76  min_seg_size_forward         100000 non-null  int64  \n",
            " 77  Active Mean                  100000 non-null  float64\n",
            " 78  Active Std                   100000 non-null  float64\n",
            " 79  Active Max                   100000 non-null  float64\n",
            " 80  Active Min                   100000 non-null  float64\n",
            " 81  Idle Mean                    100000 non-null  float64\n",
            " 82  Idle Std                     100000 non-null  float64\n",
            " 83  Idle Max                     100000 non-null  float64\n",
            " 84  Idle Min                     100000 non-null  float64\n",
            " 85  SimillarHTTP                 100000 non-null  int64  \n",
            " 86  Inbound                      100000 non-null  int64  \n",
            " 87  Label                        100000 non-null  object \n",
            "dtypes: float64(45), int64(38), object(5)\n",
            "memory usage: 67.1+ MB\n"
          ]
        }
      ]
    },
    {
      "cell_type": "code",
      "source": [
        "# Remove null values from all DataFrames\n",
        "for df in dfs:\n",
        "    df.dropna(inplace=True)\n",
        "\n"
      ],
      "metadata": {
        "id": "mtMpqypCVv4j"
      },
      "execution_count": 8,
      "outputs": []
    },
    {
      "cell_type": "code",
      "source": [
        "# Verify the change\n",
        "for i, df in enumerate(dfs):\n",
        "    print(f\"DataFrame {i}:\")\n",
        "    print(f\"Shape before removing nulls: {df.shape}\")\n",
        "    print(f\"Shape after removing nulls: {df.shape}\")\n",
        "    print()"
      ],
      "metadata": {
        "colab": {
          "base_uri": "https://localhost:8080/"
        },
        "id": "qPAqcfAFhokY",
        "outputId": "dbd99363-f8b5-46b7-9c1a-18882bb26be3"
      },
      "execution_count": 9,
      "outputs": [
        {
          "output_type": "stream",
          "name": "stdout",
          "text": [
            "DataFrame 0:\n",
            "Shape before removing nulls: (99943, 88)\n",
            "Shape after removing nulls: (99943, 88)\n",
            "\n",
            "DataFrame 1:\n",
            "Shape before removing nulls: (100000, 88)\n",
            "Shape after removing nulls: (100000, 88)\n",
            "\n",
            "DataFrame 2:\n",
            "Shape before removing nulls: (100000, 88)\n",
            "Shape after removing nulls: (100000, 88)\n",
            "\n",
            "DataFrame 3:\n",
            "Shape before removing nulls: (100000, 88)\n",
            "Shape after removing nulls: (100000, 88)\n",
            "\n",
            "DataFrame 4:\n",
            "Shape before removing nulls: (100000, 88)\n",
            "Shape after removing nulls: (100000, 88)\n",
            "\n",
            "DataFrame 5:\n",
            "Shape before removing nulls: (99997, 88)\n",
            "Shape after removing nulls: (99997, 88)\n",
            "\n",
            "DataFrame 6:\n",
            "Shape before removing nulls: (100000, 88)\n",
            "Shape after removing nulls: (100000, 88)\n",
            "\n",
            "DataFrame 7:\n",
            "Shape before removing nulls: (100000, 88)\n",
            "Shape after removing nulls: (100000, 88)\n",
            "\n",
            "DataFrame 8:\n",
            "Shape before removing nulls: (100000, 88)\n",
            "Shape after removing nulls: (100000, 88)\n",
            "\n",
            "DataFrame 9:\n",
            "Shape before removing nulls: (87274, 88)\n",
            "Shape after removing nulls: (87274, 88)\n",
            "\n",
            "DataFrame 10:\n",
            "Shape before removing nulls: (90097, 88)\n",
            "Shape after removing nulls: (90097, 88)\n",
            "\n",
            "DataFrame 11:\n",
            "Shape before removing nulls: (99999, 88)\n",
            "Shape after removing nulls: (99999, 88)\n",
            "\n"
          ]
        }
      ]
    },
    {
      "cell_type": "code",
      "source": [
        "df_sample_Syn.info()"
      ],
      "metadata": {
        "colab": {
          "base_uri": "https://localhost:8080/"
        },
        "id": "mUUmvcl3h1Jz",
        "outputId": "4f40a000-f3cf-44b0-e41b-8e69bc2720c5"
      },
      "execution_count": 10,
      "outputs": [
        {
          "output_type": "stream",
          "name": "stdout",
          "text": [
            "<class 'pandas.core.frame.DataFrame'>\n",
            "Index: 87274 entries, 0 to 99999\n",
            "Data columns (total 88 columns):\n",
            " #   Column                       Non-Null Count  Dtype  \n",
            "---  ------                       --------------  -----  \n",
            " 0   Unnamed: 0                   87274 non-null  int64  \n",
            " 1   Flow ID                      87274 non-null  object \n",
            " 2   Source IP                    87274 non-null  object \n",
            " 3   Source Port                  87274 non-null  int64  \n",
            " 4   Destination IP               87274 non-null  object \n",
            " 5   Destination Port             87274 non-null  int64  \n",
            " 6   Protocol                     87274 non-null  int64  \n",
            " 7   Timestamp                    87274 non-null  object \n",
            " 8   Flow Duration                87274 non-null  int64  \n",
            " 9   Total Fwd Packets            87274 non-null  int64  \n",
            " 10  Total Backward Packets       87274 non-null  int64  \n",
            " 11  Total Length of Fwd Packets  87274 non-null  float64\n",
            " 12  Total Length of Bwd Packets  87274 non-null  float64\n",
            " 13  Fwd Packet Length Max        87274 non-null  float64\n",
            " 14  Fwd Packet Length Min        87274 non-null  float64\n",
            " 15  Fwd Packet Length Mean       87274 non-null  float64\n",
            " 16  Fwd Packet Length Std        87274 non-null  float64\n",
            " 17  Bwd Packet Length Max        87274 non-null  float64\n",
            " 18  Bwd Packet Length Min        87274 non-null  float64\n",
            " 19  Bwd Packet Length Mean       87274 non-null  float64\n",
            " 20  Bwd Packet Length Std        87274 non-null  float64\n",
            " 21  Flow Bytes/s                 87274 non-null  float64\n",
            " 22  Flow Packets/s               87274 non-null  float64\n",
            " 23  Flow IAT Mean                87274 non-null  float64\n",
            " 24  Flow IAT Std                 87274 non-null  float64\n",
            " 25  Flow IAT Max                 87274 non-null  float64\n",
            " 26  Flow IAT Min                 87274 non-null  float64\n",
            " 27  Fwd IAT Total                87274 non-null  float64\n",
            " 28  Fwd IAT Mean                 87274 non-null  float64\n",
            " 29  Fwd IAT Std                  87274 non-null  float64\n",
            " 30  Fwd IAT Max                  87274 non-null  float64\n",
            " 31  Fwd IAT Min                  87274 non-null  float64\n",
            " 32  Bwd IAT Total                87274 non-null  float64\n",
            " 33  Bwd IAT Mean                 87274 non-null  float64\n",
            " 34  Bwd IAT Std                  87274 non-null  float64\n",
            " 35  Bwd IAT Max                  87274 non-null  float64\n",
            " 36  Bwd IAT Min                  87274 non-null  float64\n",
            " 37  Fwd PSH Flags                87274 non-null  int64  \n",
            " 38  Bwd PSH Flags                87274 non-null  int64  \n",
            " 39  Fwd URG Flags                87274 non-null  int64  \n",
            " 40  Bwd URG Flags                87274 non-null  int64  \n",
            " 41  Fwd Header Length            87274 non-null  int64  \n",
            " 42  Bwd Header Length            87274 non-null  int64  \n",
            " 43  Fwd Packets/s                87274 non-null  float64\n",
            " 44  Bwd Packets/s                87274 non-null  float64\n",
            " 45  Min Packet Length            87274 non-null  float64\n",
            " 46  Max Packet Length            87274 non-null  float64\n",
            " 47  Packet Length Mean           87274 non-null  float64\n",
            " 48  Packet Length Std            87274 non-null  float64\n",
            " 49  Packet Length Variance       87274 non-null  float64\n",
            " 50  FIN Flag Count               87274 non-null  int64  \n",
            " 51  SYN Flag Count               87274 non-null  int64  \n",
            " 52  RST Flag Count               87274 non-null  int64  \n",
            " 53  PSH Flag Count               87274 non-null  int64  \n",
            " 54  ACK Flag Count               87274 non-null  int64  \n",
            " 55  URG Flag Count               87274 non-null  int64  \n",
            " 56  CWE Flag Count               87274 non-null  int64  \n",
            " 57  ECE Flag Count               87274 non-null  int64  \n",
            " 58  Down/Up Ratio                87274 non-null  float64\n",
            " 59  Average Packet Size          87274 non-null  float64\n",
            " 60  Avg Fwd Segment Size         87274 non-null  float64\n",
            " 61  Avg Bwd Segment Size         87274 non-null  float64\n",
            " 62  Fwd Header Length.1          87274 non-null  int64  \n",
            " 63  Fwd Avg Bytes/Bulk           87274 non-null  int64  \n",
            " 64  Fwd Avg Packets/Bulk         87274 non-null  int64  \n",
            " 65  Fwd Avg Bulk Rate            87274 non-null  int64  \n",
            " 66  Bwd Avg Bytes/Bulk           87274 non-null  int64  \n",
            " 67  Bwd Avg Packets/Bulk         87274 non-null  int64  \n",
            " 68  Bwd Avg Bulk Rate            87274 non-null  int64  \n",
            " 69  Subflow Fwd Packets          87274 non-null  int64  \n",
            " 70  Subflow Fwd Bytes            87274 non-null  int64  \n",
            " 71  Subflow Bwd Packets          87274 non-null  int64  \n",
            " 72  Subflow Bwd Bytes            87274 non-null  int64  \n",
            " 73  Init_Win_bytes_forward       87274 non-null  int64  \n",
            " 74  Init_Win_bytes_backward      87274 non-null  int64  \n",
            " 75  act_data_pkt_fwd             87274 non-null  int64  \n",
            " 76  min_seg_size_forward         87274 non-null  int64  \n",
            " 77  Active Mean                  87274 non-null  float64\n",
            " 78  Active Std                   87274 non-null  float64\n",
            " 79  Active Max                   87274 non-null  float64\n",
            " 80  Active Min                   87274 non-null  float64\n",
            " 81  Idle Mean                    87274 non-null  float64\n",
            " 82  Idle Std                     87274 non-null  float64\n",
            " 83  Idle Max                     87274 non-null  float64\n",
            " 84  Idle Min                     87274 non-null  float64\n",
            " 85  SimillarHTTP                 87274 non-null  int64  \n",
            " 86  Inbound                      87274 non-null  int64  \n",
            " 87  Label                        87274 non-null  object \n",
            "dtypes: float64(45), int64(38), object(5)\n",
            "memory usage: 59.3+ MB\n"
          ]
        }
      ]
    },
    {
      "cell_type": "code",
      "source": [],
      "metadata": {
        "id": "4TO_qkclh5wE"
      },
      "execution_count": null,
      "outputs": []
    }
  ]
}